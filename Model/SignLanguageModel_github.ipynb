{
  "nbformat": 4,
  "nbformat_minor": 0,
  "metadata": {
    "colab": {
      "name": "SignLanguageModel_github.ipynb",
      "provenance": [],
      "collapsed_sections": []
    },
    "kernelspec": {
      "name": "python3",
      "display_name": "Python 3"
    }
  },
  "cells": [
    {
      "cell_type": "markdown",
      "metadata": {
        "id": "rFjhfIv-QzJK"
      },
      "source": [
        "Dataset From https://github.com/imRishabhGupta/Indian-Sign-Language-Recognition and modified by Sujay P using script from the linked project\n",
        "\n",
        "Author of this Code : Sujay P\n",
        "\n",
        "This project was created and trained on google colab with dataset uploaded on google drive"
      ]
    },
    {
      "cell_type": "code",
      "metadata": {
        "id": "T5u6B8TnN6NA"
      },
      "source": [
        "import tensorflow as tf"
      ],
      "execution_count": null,
      "outputs": []
    },
    {
      "cell_type": "code",
      "metadata": {
        "id": "4PP6BPBgNwWs",
        "outputId": "abd6c60e-e9c8-4a0a-ea48-5c94a27484e2",
        "colab": {
          "base_uri": "https://localhost:8080/",
          "height": 34
        }
      },
      "source": [
        "print(tf.__version__)"
      ],
      "execution_count": null,
      "outputs": [
        {
          "output_type": "stream",
          "text": [
            "2.3.0\n"
          ],
          "name": "stdout"
        }
      ]
    },
    {
      "cell_type": "code",
      "metadata": {
        "id": "JMJ1YvucTHsg"
      },
      "source": [
        "# installing tensorflow 2.1.0 to avoid issues while training with the beta/alpha versions ending with rc1 or something similar\n",
        "# if the version does not contain rc, no need to install\n",
        "#pip install tensorflow==2.1.0"
      ],
      "execution_count": null,
      "outputs": []
    },
    {
      "cell_type": "code",
      "metadata": {
        "id": "L_AFrToDIJVb",
        "outputId": "0be1c11a-7be2-4edf-cde4-6db2041d6641",
        "colab": {
          "base_uri": "https://localhost:8080/",
          "height": 71
        }
      },
      "source": [
        "import pandas as pd\n",
        "import numpy as np\n",
        "import matplotlib.pyplot as plt\n",
        "import seaborn as sns"
      ],
      "execution_count": null,
      "outputs": [
        {
          "output_type": "stream",
          "text": [
            "/usr/local/lib/python3.6/dist-packages/statsmodels/tools/_testing.py:19: FutureWarning: pandas.util.testing is deprecated. Use the functions in the public API at pandas.testing instead.\n",
            "  import pandas.util.testing as tm\n"
          ],
          "name": "stderr"
        }
      ]
    },
    {
      "cell_type": "code",
      "metadata": {
        "id": "yGwO6OxYJwyQ"
      },
      "source": [
        "# training set path\n",
        "# upload your dataset to a folder in google drive and put the folder name after My Drive/\n",
        "# in the side menu of this colab file click on the folder icon and press on mount drive(folder icon with gdrive logo)\n",
        "train_path = 'drive/My Drive/SLR_data/new_bw_black/'"
      ],
      "execution_count": null,
      "outputs": []
    },
    {
      "cell_type": "code",
      "metadata": {
        "id": "OyKhfJIcL9me"
      },
      "source": [
        "# if you want to check if its proper\n",
        "# put the subfolder-name/filename.filetype in place of A/1.jpg\n",
        "sample_A = train_path+'A/1.jpg'"
      ],
      "execution_count": null,
      "outputs": []
    },
    {
      "cell_type": "code",
      "metadata": {
        "id": "Az85GPNsM3se",
        "outputId": "26152ed1-efac-49c1-eb95-c29175f2661f",
        "colab": {
          "base_uri": "https://localhost:8080/",
          "height": 136
        }
      },
      "source": [
        "# using matplotlib.pyplot to read the file as a numpy array\n",
        "plt.imread(sample_A)"
      ],
      "execution_count": null,
      "outputs": [
        {
          "output_type": "execute_result",
          "data": {
            "text/plain": [
              "array([[0, 0, 0, ..., 0, 0, 0],\n",
              "       [0, 0, 0, ..., 0, 0, 0],\n",
              "       [0, 0, 0, ..., 0, 0, 0],\n",
              "       ...,\n",
              "       [0, 0, 0, ..., 0, 0, 0],\n",
              "       [0, 0, 0, ..., 0, 0, 0],\n",
              "       [0, 0, 0, ..., 0, 0, 0]], dtype=uint8)"
            ]
          },
          "metadata": {
            "tags": []
          },
          "execution_count": 17
        }
      ]
    },
    {
      "cell_type": "code",
      "metadata": {
        "id": "01MFPgFVNKJL",
        "outputId": "ae68fee3-e89e-4fcc-d03e-a5c1ded8d4fa",
        "colab": {
          "base_uri": "https://localhost:8080/",
          "height": 34
        }
      },
      "source": [
        "# shape is (rows, columns)\n",
        "# keep the dimensions somewhat around these dimensions, less or equal dont use big images\n",
        "# calculate the aspect ratio by columns / rows and resize it to dimensions which are both integers\n",
        "plt.imread(sample_A).shape"
      ],
      "execution_count": null,
      "outputs": [
        {
          "output_type": "execute_result",
          "data": {
            "text/plain": [
              "(96, 128)"
            ]
          },
          "metadata": {
            "tags": []
          },
          "execution_count": 18
        }
      ]
    },
    {
      "cell_type": "code",
      "metadata": {
        "id": "27yEioF4NxQd"
      },
      "source": [
        "import os"
      ],
      "execution_count": null,
      "outputs": []
    },
    {
      "cell_type": "code",
      "metadata": {
        "id": "0udiwWBzO9si",
        "outputId": "b38c1fad-da11-420e-f7e1-c44b3be2fb22",
        "colab": {
          "base_uri": "https://localhost:8080/",
          "height": 1000
        }
      },
      "source": [
        "os.listdir(train_path+'A')"
      ],
      "execution_count": null,
      "outputs": [
        {
          "output_type": "execute_result",
          "data": {
            "text/plain": [
              "['1.jpg',\n",
              " '2.jpg',\n",
              " '3.jpg',\n",
              " '4.jpg',\n",
              " '5.jpg',\n",
              " '6.jpg',\n",
              " '7.jpg',\n",
              " '8.jpg',\n",
              " '9.jpg',\n",
              " '10.jpg',\n",
              " '11.jpg',\n",
              " '12.jpg',\n",
              " '13.jpg',\n",
              " '14.jpg',\n",
              " '15.jpg',\n",
              " '16.jpg',\n",
              " '17.jpg',\n",
              " '18.jpg',\n",
              " '19.jpg',\n",
              " '20.jpg',\n",
              " '21.jpg',\n",
              " '22.jpg',\n",
              " '23.jpg',\n",
              " '24.jpg',\n",
              " '25.jpg',\n",
              " '26.jpg',\n",
              " '27.jpg',\n",
              " '28.jpg',\n",
              " '29.jpg',\n",
              " '30.jpg',\n",
              " '31.jpg',\n",
              " '32.jpg',\n",
              " '33.jpg',\n",
              " '34.jpg',\n",
              " '35.jpg',\n",
              " '36.jpg',\n",
              " '37.jpg',\n",
              " '38.jpg',\n",
              " '39.jpg',\n",
              " '40.jpg',\n",
              " '41.jpg',\n",
              " '42.jpg',\n",
              " '43.jpg',\n",
              " '44.jpg',\n",
              " '45.jpg',\n",
              " '46.jpg',\n",
              " '47.jpg',\n",
              " '48.jpg',\n",
              " '49.jpg',\n",
              " '50.jpg',\n",
              " '51.jpg',\n",
              " '52.jpg',\n",
              " '53.jpg',\n",
              " '54.jpg',\n",
              " '55.jpg',\n",
              " '56.jpg',\n",
              " '57.jpg',\n",
              " '58.jpg',\n",
              " '59.jpg',\n",
              " '60.jpg',\n",
              " '61.jpg',\n",
              " '62.jpg',\n",
              " '63.jpg',\n",
              " '64.jpg',\n",
              " '65.jpg',\n",
              " '66.jpg',\n",
              " '67.jpg',\n",
              " '68.jpg',\n",
              " '69.jpg',\n",
              " '70.jpg',\n",
              " '71.jpg',\n",
              " '72.jpg',\n",
              " '73.jpg',\n",
              " '74.jpg',\n",
              " '75.jpg',\n",
              " '76.jpg',\n",
              " '77.jpg',\n",
              " '78.jpg',\n",
              " '79.jpg',\n",
              " '80.jpg',\n",
              " '81.jpg',\n",
              " '82.jpg',\n",
              " '83.jpg',\n",
              " '84.jpg',\n",
              " '85.jpg',\n",
              " '86.jpg',\n",
              " '87.jpg',\n",
              " '88.jpg',\n",
              " '89.jpg',\n",
              " '90.jpg',\n",
              " '91.jpg',\n",
              " '92.jpg',\n",
              " '93.jpg',\n",
              " '94.jpg',\n",
              " '95.jpg',\n",
              " '96.jpg',\n",
              " '97.jpg',\n",
              " '98.jpg',\n",
              " '99.jpg',\n",
              " '100.jpg',\n",
              " '101.jpg',\n",
              " '102.jpg',\n",
              " '103.jpg',\n",
              " '104.jpg',\n",
              " '105.jpg',\n",
              " '106.jpg',\n",
              " '107.jpg',\n",
              " '108.jpg',\n",
              " '109.jpg',\n",
              " '110.jpg',\n",
              " '111.jpg',\n",
              " '112.jpg',\n",
              " '113.jpg',\n",
              " '114.jpg',\n",
              " '115.jpg',\n",
              " '116.jpg',\n",
              " '117.jpg',\n",
              " '118.jpg',\n",
              " '119.jpg',\n",
              " '120.jpg',\n",
              " '121.jpg',\n",
              " '122.jpg',\n",
              " '123.jpg',\n",
              " '124.jpg',\n",
              " '125.jpg',\n",
              " '126.jpg',\n",
              " '127.jpg',\n",
              " '128.jpg',\n",
              " '129.jpg',\n",
              " '130.jpg',\n",
              " '131.jpg',\n",
              " '132.jpg',\n",
              " '133.jpg',\n",
              " '134.jpg',\n",
              " '135.jpg',\n",
              " '136.jpg',\n",
              " '137.jpg',\n",
              " '138.jpg',\n",
              " '139.jpg',\n",
              " '140.jpg',\n",
              " '141.jpg',\n",
              " '142.jpg',\n",
              " '143.jpg',\n",
              " '144.jpg',\n",
              " '145.jpg',\n",
              " '146.jpg',\n",
              " '147.jpg',\n",
              " '148.jpg',\n",
              " '149.jpg',\n",
              " '150.jpg',\n",
              " '151.jpg',\n",
              " '152.jpg',\n",
              " '153.jpg',\n",
              " '154.jpg',\n",
              " '155.jpg',\n",
              " '156.jpg',\n",
              " '157.jpg',\n",
              " '158.jpg',\n",
              " '159.jpg',\n",
              " '160.jpg',\n",
              " '161.jpg',\n",
              " '162.jpg',\n",
              " '163.jpg',\n",
              " '164.jpg',\n",
              " '165.jpg',\n",
              " '166.jpg',\n",
              " '167.jpg',\n",
              " '168.jpg',\n",
              " '169.jpg',\n",
              " '170.jpg',\n",
              " '171.jpg',\n",
              " '172.jpg',\n",
              " '173.jpg',\n",
              " '174.jpg',\n",
              " '175.jpg',\n",
              " '176.jpg',\n",
              " '177.jpg',\n",
              " '178.jpg',\n",
              " '179.jpg',\n",
              " '180.jpg',\n",
              " '181.jpg',\n",
              " '182.jpg',\n",
              " '183.jpg',\n",
              " '184.jpg',\n",
              " '185.jpg',\n",
              " '186.jpg',\n",
              " '187.jpg',\n",
              " '188.jpg',\n",
              " '189.jpg',\n",
              " '190.jpg',\n",
              " '191.jpg',\n",
              " '192.jpg',\n",
              " '193.jpg',\n",
              " '194.jpg',\n",
              " '195.jpg',\n",
              " '196.jpg',\n",
              " '197.jpg',\n",
              " '198.jpg',\n",
              " '199.jpg',\n",
              " '200.jpg',\n",
              " '201.jpg',\n",
              " '202.jpg',\n",
              " '203.jpg',\n",
              " '204.jpg',\n",
              " '205.jpg',\n",
              " '206.jpg',\n",
              " '207.jpg',\n",
              " '208.jpg',\n",
              " '209.jpg',\n",
              " '210.jpg',\n",
              " '211.jpg',\n",
              " '212.jpg',\n",
              " '213.jpg',\n",
              " '214.jpg',\n",
              " '215.jpg',\n",
              " '216.jpg',\n",
              " '217.jpg',\n",
              " '218.jpg',\n",
              " '219.jpg',\n",
              " '220.jpg',\n",
              " '221.jpg',\n",
              " '222.jpg',\n",
              " '223.jpg',\n",
              " '224.jpg',\n",
              " '225.jpg',\n",
              " '226.jpg',\n",
              " '227.jpg',\n",
              " '228.jpg',\n",
              " '229.jpg',\n",
              " '230.jpg',\n",
              " '231.jpg',\n",
              " '232.jpg',\n",
              " '233.jpg',\n",
              " '234.jpg',\n",
              " '235.jpg',\n",
              " '236.jpg',\n",
              " '237.jpg',\n",
              " '238.jpg',\n",
              " '239.jpg',\n",
              " '240.jpg',\n",
              " '241.jpg']"
            ]
          },
          "metadata": {
            "tags": []
          },
          "execution_count": 20
        }
      ]
    },
    {
      "cell_type": "code",
      "metadata": {
        "id": "CMj5-j6Jm4tk",
        "outputId": "14912563-60e7-4b70-8999-7cae2ba721fc",
        "colab": {
          "base_uri": "https://localhost:8080/",
          "height": 34
        }
      },
      "source": [
        "len(os.listdir(train_path+'A'))"
      ],
      "execution_count": null,
      "outputs": [
        {
          "output_type": "execute_result",
          "data": {
            "text/plain": [
              "241"
            ]
          },
          "metadata": {
            "tags": []
          },
          "execution_count": 21
        }
      ]
    },
    {
      "cell_type": "code",
      "metadata": {
        "id": "NrqTN2rXm5ld"
      },
      "source": [
        "import imutils"
      ],
      "execution_count": null,
      "outputs": []
    },
    {
      "cell_type": "code",
      "metadata": {
        "id": "Uz5xfoZfNX__",
        "outputId": "a9b8c189-8f27-4346-ca63-52cbb25e5e78",
        "colab": {
          "base_uri": "https://localhost:8080/",
          "height": 69
        }
      },
      "source": [
        "# resizing the images and storing and appending them to dim1 and dim2 and later calculating mean to check if any \n",
        "# dimension is different, no need to run anymore\n",
        "'''\n",
        "dim1 = []\n",
        "dim2 = []\n",
        "\n",
        "for image in os.listdir(train_path+'A'):\n",
        "    img = plt.imread(train_path+'A/'+image)\n",
        "    img_resized = imutils.resize(img, height = 100)\n",
        "    d1, d2, colors = img_resized.shape\n",
        "    dim1.append(d1)\n",
        "    dim2.append(d2)\n",
        "'''"
      ],
      "execution_count": null,
      "outputs": [
        {
          "output_type": "execute_result",
          "data": {
            "application/vnd.google.colaboratory.intrinsic+json": {
              "type": "string"
            },
            "text/plain": [
              "\"\\ndim1 = []\\ndim2 = []\\n\\nfor image in os.listdir(train_path+'A'):\\n    img = plt.imread(train_path+'A/'+image)\\n    img_resized = imutils.resize(img, height = 100)\\n    d1, d2, colors = img_resized.shape\\n    dim1.append(d1)\\n    dim2.append(d2)\\n\""
            ]
          },
          "metadata": {
            "tags": []
          },
          "execution_count": 23
        }
      ]
    },
    {
      "cell_type": "code",
      "metadata": {
        "id": "8l1McasWOk9v"
      },
      "source": [
        "#dim1"
      ],
      "execution_count": null,
      "outputs": []
    },
    {
      "cell_type": "code",
      "metadata": {
        "id": "5Gs5hA6IPD3s"
      },
      "source": [
        "#dim2"
      ],
      "execution_count": null,
      "outputs": []
    },
    {
      "cell_type": "code",
      "metadata": {
        "id": "e_HokZ49PQlb"
      },
      "source": [
        "# if the mean is equal to first dimension then that means all the images have been succesfully transformed into same first dimension\n",
        "# you can use the unique function as well\n",
        "#np.mean(dim1)"
      ],
      "execution_count": null,
      "outputs": []
    },
    {
      "cell_type": "code",
      "metadata": {
        "id": "Y8h4QeOqPpX0"
      },
      "source": [
        "# similar to above cell\n",
        "#np.mean(dim2)"
      ],
      "execution_count": null,
      "outputs": []
    },
    {
      "cell_type": "code",
      "metadata": {
        "id": "N3p6UQw_Przv"
      },
      "source": [
        "# target image shape\n",
        "# the third dimension is the number of color channels. I converted my dataset to grayscale. If your dataset contains only color images then\n",
        "# third dimension will be 3 instead of 1\n",
        "image_shape = (96, 128, 1)"
      ],
      "execution_count": null,
      "outputs": []
    },
    {
      "cell_type": "code",
      "metadata": {
        "id": "XMX69TVyP19T"
      },
      "source": [
        "# ImageDataGenerator to apply augmentations to the image while training the model thus increasing the data set size\n",
        "from tensorflow.keras.preprocessing.image import ImageDataGenerator"
      ],
      "execution_count": null,
      "outputs": []
    },
    {
      "cell_type": "code",
      "metadata": {
        "id": "ZOqwQFnCQCTt"
      },
      "source": [
        "# run this cell and the following three cells to see the change then run these four again and then feel free to change the values of this cell and\n",
        "# run these four again\n",
        "# rescale is used to normalize every image to bring range of every pixel in between 0 & 1\n",
        "image_gen = ImageDataGenerator(rotation_range = 20,\n",
        "                               width_shift_range = 0.1,\n",
        "                               height_shift_range = 0.1,\n",
        "                               shear_range = 0.1,\n",
        "                               zoom_range = 0.1,\n",
        "                               horizontal_flip = False,\n",
        "                               fill_mode = 'nearest',\n",
        "                               validation_split = 0.2,\n",
        "                               rescale = 1.0/255)"
      ],
      "execution_count": null,
      "outputs": []
    },
    {
      "cell_type": "code",
      "metadata": {
        "id": "S_dB2xNBYK05",
        "outputId": "64020cf2-215d-4593-e527-cb6e9489540b",
        "colab": {
          "base_uri": "https://localhost:8080/",
          "height": 34
        }
      },
      "source": [
        "sample_A_read = plt.imread(sample_A)\n",
        "sample_A_read.shape"
      ],
      "execution_count": null,
      "outputs": [
        {
          "output_type": "execute_result",
          "data": {
            "text/plain": [
              "(96, 128)"
            ]
          },
          "metadata": {
            "tags": []
          },
          "execution_count": 44
        }
      ]
    },
    {
      "cell_type": "code",
      "metadata": {
        "id": "2XTaLy5UUgZT",
        "outputId": "c9e38ab2-8dc8-4cb5-ca50-25949cabba41",
        "colab": {
          "base_uri": "https://localhost:8080/",
          "height": 285
        }
      },
      "source": [
        "# Original image from the dataset\n",
        "plt.imshow(sample_A_read)"
      ],
      "execution_count": null,
      "outputs": [
        {
          "output_type": "execute_result",
          "data": {
            "text/plain": [
              "<matplotlib.image.AxesImage at 0x7f914ba99278>"
            ]
          },
          "metadata": {
            "tags": []
          },
          "execution_count": 45
        },
        {
          "output_type": "display_data",
          "data": {
            "image/png": "[encoded data removed]",
            "text/plain": [
              "<Figure size 432x288 with 1 Axes>"
            ]
          },
          "metadata": {
            "tags": [],
            "needs_background": "light"
          }
        }
      ]
    },
    {
      "cell_type": "code",
      "metadata": {
        "id": "Dr16SL3iVFoI",
        "outputId": "1de6407b-24c7-4ef8-ec53-a1ff00ab188e",
        "colab": {
          "base_uri": "https://localhost:8080/",
          "height": 285
        }
      },
      "source": [
        "# Augmentd image created from the above image using ImageDataGenerator\n",
        "# run this cell again and again to see random changes\n",
        "sample_A_exp = np.expand_dims(sample_A_read, 2)\n",
        "sample_A_exp.shape\n",
        "plt.imshow(image_gen.random_transform(sample_A_exp).reshape(96, 128))"
      ],
      "execution_count": null,
      "outputs": [
        {
          "output_type": "execute_result",
          "data": {
            "text/plain": [
              "<matplotlib.image.AxesImage at 0x7f914b908d68>"
            ]
          },
          "metadata": {
            "tags": []
          },
          "execution_count": 54
        },
        {
          "output_type": "display_data",
          "data": {
            "image/png": "[encoded data removed]",
            "text/plain": [
              "<Figure size 432x288 with 1 Axes>"
            ]
          },
          "metadata": {
            "tags": [],
            "needs_background": "light"
          }
        }
      ]
    },
    {
      "cell_type": "code",
      "metadata": {
        "id": "h3QaXr5uVhLF",
        "outputId": "d492ab63-5536-4f7c-be58-aed0f01a793b",
        "colab": {
          "base_uri": "https://localhost:8080/",
          "height": 51
        }
      },
      "source": [
        "image_gen.flow_from_directory(train_path)"
      ],
      "execution_count": null,
      "outputs": [
        {
          "output_type": "stream",
          "text": [
            "Found 4968 images belonging to 24 classes.\n"
          ],
          "name": "stdout"
        },
        {
          "output_type": "execute_result",
          "data": {
            "text/plain": [
              "<tensorflow.python.keras.preprocessing.image.DirectoryIterator at 0x7f914b917208>"
            ]
          },
          "metadata": {
            "tags": []
          },
          "execution_count": 55
        }
      ]
    },
    {
      "cell_type": "code",
      "metadata": {
        "id": "aqlCiUcPV1py"
      },
      "source": [
        "from tensorflow.keras.models import Sequential"
      ],
      "execution_count": null,
      "outputs": []
    },
    {
      "cell_type": "code",
      "metadata": {
        "id": "nbDgzJx2WAZX"
      },
      "source": [
        "from tensorflow.keras.layers import Dense, Conv2D, MaxPool2D, Flatten"
      ],
      "execution_count": null,
      "outputs": []
    },
    {
      "cell_type": "code",
      "metadata": {
        "id": "KP32ufGwWUCy"
      },
      "source": [
        "# Convolutional Neural Network (CNN) model\n",
        "model = Sequential()                    # initialize the model\n",
        "\n",
        "# following are the layers\n",
        "# try training with these same configurations first then add more layers, layer combos and run this cell again and then train\n",
        "# you can add multiple Conv2D layers before a MaxPool2D layer or you can use the same alternate combo i have used\n",
        "# dont use 2 MaxPool2D layers one after the other immediately\n",
        "# you can change the filters argument in the existing Conv2D layers or the new layers you add but keeping the other arguments same is recommended\n",
        "# dont add Conv2D and MaxPool2D layers after the Flatten layer\n",
        "\n",
        "model.add(Conv2D(filters = 32, kernel_size = (4, 4), input_shape = image_shape, activation = 'relu'))\n",
        "model.add(MaxPool2D(pool_size = (2,2)))\n",
        "\n",
        "model.add(Conv2D(filters = 64, kernel_size = (4, 4), input_shape = image_shape, activation = 'relu'))\n",
        "model.add(MaxPool2D(pool_size = (2,2)))\n",
        "\n",
        "#model.add(Conv2D(filters = 64, kernel_size = (4, 4), input_shape = image_shape, activation = 'relu'))\n",
        "#model.add(MaxPool2D(pool_size = (2,2)))\n",
        "\n",
        "# dont add any Conv2D or MaxPool2D layers after this\n",
        "model.add(Flatten())\n",
        "\n",
        "# Dense layers are regular neural network layers\n",
        "# the first argument of Dense is the number of neurons you want in the current layer\n",
        "model.add(Dense(128, activation = 'relu'))\n",
        "\n",
        "# feel free to add more Dense layers before the following final layer\n",
        "# The following is the final layer of the model\n",
        "# The number of neurons in this layer must be equal to the number of classes you want to classify the input image into\n",
        "# !!! Exception !!! If your model has to classify into two classes only then the number of neurons should be 1 and\n",
        "# the activation should be 'sigmoid' \n",
        "model.add(Dense(24, activation = 'softmax'))\n",
        "\n",
        "# Now compiling the model\n",
        "# If your model has to classify into two classes only then the loss argument should be 'binary_crossentropy'\n",
        "model.compile(loss = 'categorical_crossentropy', optimizer = 'adam', metrics = ['accuracy'])"
      ],
      "execution_count": null,
      "outputs": []
    },
    {
      "cell_type": "code",
      "metadata": {
        "id": "B_GKPicEWkG_"
      },
      "source": [
        "from tensorflow.keras.callbacks import EarlyStopping"
      ],
      "execution_count": null,
      "outputs": []
    },
    {
      "cell_type": "code",
      "metadata": {
        "id": "nb0kk9t6YN8M"
      },
      "source": [
        "# EarlyStopping monitors 'val_loss' i.e. validation test loss and as soon as the 'val_loss' starts increasing instead of decreasing it\n",
        "# it stops\n",
        "# patience = 5 means it will wait for 5 epochs(itterations) before stopping\n",
        "early_stop = EarlyStopping(monitor = 'val_loss', patience = 5, verbose = 1)"
      ],
      "execution_count": null,
      "outputs": []
    },
    {
      "cell_type": "code",
      "metadata": {
        "id": "tkIrXALpZJP5"
      },
      "source": [
        "batch_size = 16"
      ],
      "execution_count": null,
      "outputs": []
    },
    {
      "cell_type": "code",
      "metadata": {
        "id": "VB5_gukpIq1v",
        "outputId": "1c26dfb0-f0cd-4c56-be51-59711e591de7",
        "colab": {
          "base_uri": "https://localhost:8080/",
          "height": 34
        }
      },
      "source": [
        "train_image_gen = image_gen.flow_from_directory(train_path,\n",
        "                                               target_size = image_shape[:2],\n",
        "                                               color_mode = 'grayscale',\n",
        "                                               batch_size = batch_size,\n",
        "                                               class_mode = 'categorical',\n",
        "                                                subset = 'training')"
      ],
      "execution_count": null,
      "outputs": [
        {
          "output_type": "stream",
          "text": [
            "Found 3983 images belonging to 24 classes.\n"
          ],
          "name": "stdout"
        }
      ]
    },
    {
      "cell_type": "code",
      "metadata": {
        "id": "H1wZlQEwiD8l",
        "outputId": "6d4a87d8-5f52-423f-ca7b-9f49e8d2f320",
        "colab": {
          "base_uri": "https://localhost:8080/",
          "height": 34
        }
      },
      "source": [
        "test_image_gen = image_gen.flow_from_directory(train_path,\n",
        "                                               target_size = image_shape[:2],\n",
        "                                               color_mode = 'grayscale',\n",
        "                                               batch_size = batch_size,\n",
        "                                               class_mode = 'categorical',\n",
        "                                                subset = 'validation')"
      ],
      "execution_count": null,
      "outputs": [
        {
          "output_type": "stream",
          "text": [
            "Found 985 images belonging to 24 classes.\n"
          ],
          "name": "stdout"
        }
      ]
    },
    {
      "cell_type": "code",
      "metadata": {
        "id": "aY9l7kWDbsNe",
        "outputId": "169521bb-4997-4b9c-ad2f-c0c6163a005d",
        "colab": {
          "base_uri": "https://localhost:8080/",
          "height": 425
        }
      },
      "source": [
        "train_image_gen.class_indices"
      ],
      "execution_count": null,
      "outputs": [
        {
          "output_type": "execute_result",
          "data": {
            "text/plain": [
              "{'A': 0,\n",
              " 'B': 1,\n",
              " 'C': 2,\n",
              " 'D': 3,\n",
              " 'E': 4,\n",
              " 'F': 5,\n",
              " 'G': 6,\n",
              " 'H': 7,\n",
              " 'I': 8,\n",
              " 'K': 9,\n",
              " 'L': 10,\n",
              " 'M': 11,\n",
              " 'N': 12,\n",
              " 'O': 13,\n",
              " 'P': 14,\n",
              " 'Q': 15,\n",
              " 'R': 16,\n",
              " 'S': 17,\n",
              " 'T': 18,\n",
              " 'U': 19,\n",
              " 'V': 20,\n",
              " 'W': 21,\n",
              " 'X': 22,\n",
              " 'Y': 23}"
            ]
          },
          "metadata": {
            "tags": []
          },
          "execution_count": 64
        }
      ]
    },
    {
      "cell_type": "code",
      "metadata": {
        "id": "XTY98vO6ikee",
        "outputId": "ef732472-69e4-4fe3-b9cd-0e95e87afa26",
        "colab": {
          "base_uri": "https://localhost:8080/",
          "height": 425
        }
      },
      "source": [
        "test_image_gen.class_indices"
      ],
      "execution_count": null,
      "outputs": [
        {
          "output_type": "execute_result",
          "data": {
            "text/plain": [
              "{'A': 0,\n",
              " 'B': 1,\n",
              " 'C': 2,\n",
              " 'D': 3,\n",
              " 'E': 4,\n",
              " 'F': 5,\n",
              " 'G': 6,\n",
              " 'H': 7,\n",
              " 'I': 8,\n",
              " 'K': 9,\n",
              " 'L': 10,\n",
              " 'M': 11,\n",
              " 'N': 12,\n",
              " 'O': 13,\n",
              " 'P': 14,\n",
              " 'Q': 15,\n",
              " 'R': 16,\n",
              " 'S': 17,\n",
              " 'T': 18,\n",
              " 'U': 19,\n",
              " 'V': 20,\n",
              " 'W': 21,\n",
              " 'X': 22,\n",
              " 'Y': 23}"
            ]
          },
          "metadata": {
            "tags": []
          },
          "execution_count": 65
        }
      ]
    },
    {
      "cell_type": "code",
      "metadata": {
        "id": "-TjOY62Ub9Qq",
        "outputId": "92724ccc-8f8c-40ef-b802-72e9997293b6",
        "colab": {
          "base_uri": "https://localhost:8080/",
          "height": 853
        }
      },
      "source": [
        "# Training The Model\n",
        "# validation data is the predictions on validation set on which it calculates validation loss and accuracy\n",
        "# EarlyStopping can monitor validation loss(monitors a decrease until increase[which means the model has started to overfit on the training set]) or\n",
        "# validation accuracy (monitors an increase until a decrease)\n",
        "results = model.fit_generator(train_image_gen, epochs = 30,\n",
        "                             validation_data = test_image_gen,\n",
        "                             callbacks = [early_stop])"
      ],
      "execution_count": null,
      "outputs": [
        {
          "output_type": "stream",
          "text": [
            "WARNING:tensorflow:From <ipython-input-66-99cba18b0160>:4: Model.fit_generator (from tensorflow.python.keras.engine.training) is deprecated and will be removed in a future version.\n",
            "Instructions for updating:\n",
            "Please use Model.fit, which supports generators.\n",
            "Epoch 1/30\n",
            "249/249 [==============================] - 2755s 11s/step - loss: 1.7676 - accuracy: 0.4665 - val_loss: 1.6408 - val_accuracy: 0.5553\n",
            "Epoch 2/30\n",
            "249/249 [==============================] - 102s 408ms/step - loss: 0.8224 - accuracy: 0.7432 - val_loss: 1.0662 - val_accuracy: 0.7279\n",
            "Epoch 3/30\n",
            "249/249 [==============================] - 94s 377ms/step - loss: 0.5335 - accuracy: 0.8250 - val_loss: 0.8124 - val_accuracy: 0.7706\n",
            "Epoch 4/30\n",
            "249/249 [==============================] - 94s 378ms/step - loss: 0.3767 - accuracy: 0.8835 - val_loss: 0.7511 - val_accuracy: 0.8122\n",
            "Epoch 5/30\n",
            "249/249 [==============================] - 95s 381ms/step - loss: 0.3277 - accuracy: 0.8966 - val_loss: 0.6557 - val_accuracy: 0.8305\n",
            "Epoch 6/30\n",
            "249/249 [==============================] - 92s 370ms/step - loss: 0.2624 - accuracy: 0.9146 - val_loss: 0.6422 - val_accuracy: 0.8355\n",
            "Epoch 7/30\n",
            "249/249 [==============================] - 92s 369ms/step - loss: 0.2510 - accuracy: 0.9254 - val_loss: 0.5380 - val_accuracy: 0.8619\n",
            "Epoch 8/30\n",
            "249/249 [==============================] - 94s 378ms/step - loss: 0.1764 - accuracy: 0.9470 - val_loss: 0.5263 - val_accuracy: 0.8508\n",
            "Epoch 9/30\n",
            "249/249 [==============================] - 94s 377ms/step - loss: 0.1729 - accuracy: 0.9465 - val_loss: 0.5484 - val_accuracy: 0.8782\n",
            "Epoch 10/30\n",
            "249/249 [==============================] - 93s 373ms/step - loss: 0.1842 - accuracy: 0.9413 - val_loss: 0.5457 - val_accuracy: 0.8538\n",
            "Epoch 11/30\n",
            "249/249 [==============================] - 94s 376ms/step - loss: 0.1518 - accuracy: 0.9483 - val_loss: 0.5223 - val_accuracy: 0.8680\n",
            "Epoch 12/30\n",
            "249/249 [==============================] - 92s 370ms/step - loss: 0.1566 - accuracy: 0.9568 - val_loss: 0.4760 - val_accuracy: 0.8853\n",
            "Epoch 13/30\n",
            "249/249 [==============================] - 93s 374ms/step - loss: 0.1191 - accuracy: 0.9659 - val_loss: 0.5983 - val_accuracy: 0.8751\n",
            "Epoch 14/30\n",
            "249/249 [==============================] - 93s 375ms/step - loss: 0.1146 - accuracy: 0.9646 - val_loss: 0.4665 - val_accuracy: 0.8782\n",
            "Epoch 15/30\n",
            "249/249 [==============================] - 97s 389ms/step - loss: 0.1272 - accuracy: 0.9621 - val_loss: 0.4265 - val_accuracy: 0.8904\n",
            "Epoch 16/30\n",
            "249/249 [==============================] - 92s 371ms/step - loss: 0.1136 - accuracy: 0.9669 - val_loss: 0.4413 - val_accuracy: 0.8832\n",
            "Epoch 17/30\n",
            "249/249 [==============================] - 93s 376ms/step - loss: 0.1008 - accuracy: 0.9714 - val_loss: 0.3571 - val_accuracy: 0.9086\n",
            "Epoch 18/30\n",
            "249/249 [==============================] - 92s 369ms/step - loss: 0.0878 - accuracy: 0.9719 - val_loss: 0.4381 - val_accuracy: 0.9056\n",
            "Epoch 19/30\n",
            "249/249 [==============================] - 93s 374ms/step - loss: 0.0675 - accuracy: 0.9784 - val_loss: 0.4223 - val_accuracy: 0.9157\n",
            "Epoch 20/30\n",
            "249/249 [==============================] - 96s 384ms/step - loss: 0.0795 - accuracy: 0.9779 - val_loss: 0.3935 - val_accuracy: 0.9117\n",
            "Epoch 21/30\n",
            "249/249 [==============================] - 95s 380ms/step - loss: 0.0909 - accuracy: 0.9701 - val_loss: 0.3603 - val_accuracy: 0.9188\n",
            "Epoch 22/30\n",
            "249/249 [==============================] - 93s 375ms/step - loss: 0.0864 - accuracy: 0.9721 - val_loss: 0.4701 - val_accuracy: 0.9005\n",
            "Epoch 00022: early stopping\n"
          ],
          "name": "stdout"
        }
      ]
    },
    {
      "cell_type": "code",
      "metadata": {
        "id": "cR14c885cfOL",
        "outputId": "2af6f086-7249-49bb-8118-8b3b1b6abda5",
        "colab": {
          "base_uri": "https://localhost:8080/",
          "height": 34
        }
      },
      "source": [
        "results"
      ],
      "execution_count": null,
      "outputs": [
        {
          "output_type": "execute_result",
          "data": {
            "text/plain": [
              "<tensorflow.python.keras.callbacks.History at 0x7f914b930ba8>"
            ]
          },
          "metadata": {
            "tags": []
          },
          "execution_count": 68
        }
      ]
    },
    {
      "cell_type": "code",
      "metadata": {
        "id": "J1Bmthtw9JLL"
      },
      "source": [
        "# converting the results of the trainig to a pandas dataframe\n",
        "metrics = pd.DataFrame(model.history.history)"
      ],
      "execution_count": null,
      "outputs": []
    },
    {
      "cell_type": "code",
      "metadata": {
        "id": "eT6neRfs9Sq7",
        "outputId": "204b2763-e8d9-46b1-ddde-e4c2c13e9c1e",
        "colab": {
          "base_uri": "https://localhost:8080/",
          "height": 731
        }
      },
      "source": [
        "metrics"
      ],
      "execution_count": null,
      "outputs": [
        {
          "output_type": "execute_result",
          "data": {
            "text/html": [
              "<div>\n",
              "<style scoped>\n",
              "    .dataframe tbody tr th:only-of-type {\n",
              "        vertical-align: middle;\n",
              "    }\n",
              "\n",
              "    .dataframe tbody tr th {\n",
              "        vertical-align: top;\n",
              "    }\n",
              "\n",
              "    .dataframe thead th {\n",
              "        text-align: right;\n",
              "    }\n",
              "</style>\n",
              "<table border=\"1\" class=\"dataframe\">\n",
              "  <thead>\n",
              "    <tr style=\"text-align: right;\">\n",
              "      <th></th>\n",
              "      <th>loss</th>\n",
              "      <th>accuracy</th>\n",
              "      <th>val_loss</th>\n",
              "      <th>val_accuracy</th>\n",
              "    </tr>\n",
              "  </thead>\n",
              "  <tbody>\n",
              "    <tr>\n",
              "      <th>0</th>\n",
              "      <td>1.767598</td>\n",
              "      <td>0.466483</td>\n",
              "      <td>1.640850</td>\n",
              "      <td>0.555330</td>\n",
              "    </tr>\n",
              "    <tr>\n",
              "      <th>1</th>\n",
              "      <td>0.822356</td>\n",
              "      <td>0.743158</td>\n",
              "      <td>1.066197</td>\n",
              "      <td>0.727919</td>\n",
              "    </tr>\n",
              "    <tr>\n",
              "      <th>2</th>\n",
              "      <td>0.533501</td>\n",
              "      <td>0.825006</td>\n",
              "      <td>0.812415</td>\n",
              "      <td>0.770558</td>\n",
              "    </tr>\n",
              "    <tr>\n",
              "      <th>3</th>\n",
              "      <td>0.376656</td>\n",
              "      <td>0.883505</td>\n",
              "      <td>0.751095</td>\n",
              "      <td>0.812183</td>\n",
              "    </tr>\n",
              "    <tr>\n",
              "      <th>4</th>\n",
              "      <td>0.327735</td>\n",
              "      <td>0.896560</td>\n",
              "      <td>0.655693</td>\n",
              "      <td>0.830457</td>\n",
              "    </tr>\n",
              "    <tr>\n",
              "      <th>5</th>\n",
              "      <td>0.262432</td>\n",
              "      <td>0.914637</td>\n",
              "      <td>0.642150</td>\n",
              "      <td>0.835533</td>\n",
              "    </tr>\n",
              "    <tr>\n",
              "      <th>6</th>\n",
              "      <td>0.250959</td>\n",
              "      <td>0.925433</td>\n",
              "      <td>0.538047</td>\n",
              "      <td>0.861929</td>\n",
              "    </tr>\n",
              "    <tr>\n",
              "      <th>7</th>\n",
              "      <td>0.176420</td>\n",
              "      <td>0.947025</td>\n",
              "      <td>0.526328</td>\n",
              "      <td>0.850761</td>\n",
              "    </tr>\n",
              "    <tr>\n",
              "      <th>8</th>\n",
              "      <td>0.172928</td>\n",
              "      <td>0.946523</td>\n",
              "      <td>0.548436</td>\n",
              "      <td>0.878173</td>\n",
              "    </tr>\n",
              "    <tr>\n",
              "      <th>9</th>\n",
              "      <td>0.184173</td>\n",
              "      <td>0.941250</td>\n",
              "      <td>0.545724</td>\n",
              "      <td>0.853807</td>\n",
              "    </tr>\n",
              "    <tr>\n",
              "      <th>10</th>\n",
              "      <td>0.151823</td>\n",
              "      <td>0.948280</td>\n",
              "      <td>0.522283</td>\n",
              "      <td>0.868020</td>\n",
              "    </tr>\n",
              "    <tr>\n",
              "      <th>11</th>\n",
              "      <td>0.156622</td>\n",
              "      <td>0.956816</td>\n",
              "      <td>0.475961</td>\n",
              "      <td>0.885279</td>\n",
              "    </tr>\n",
              "    <tr>\n",
              "      <th>12</th>\n",
              "      <td>0.119081</td>\n",
              "      <td>0.965855</td>\n",
              "      <td>0.598331</td>\n",
              "      <td>0.875127</td>\n",
              "    </tr>\n",
              "    <tr>\n",
              "      <th>13</th>\n",
              "      <td>0.114556</td>\n",
              "      <td>0.964600</td>\n",
              "      <td>0.466487</td>\n",
              "      <td>0.878173</td>\n",
              "    </tr>\n",
              "    <tr>\n",
              "      <th>14</th>\n",
              "      <td>0.127231</td>\n",
              "      <td>0.962089</td>\n",
              "      <td>0.426454</td>\n",
              "      <td>0.890355</td>\n",
              "    </tr>\n",
              "    <tr>\n",
              "      <th>15</th>\n",
              "      <td>0.113639</td>\n",
              "      <td>0.966859</td>\n",
              "      <td>0.441258</td>\n",
              "      <td>0.883249</td>\n",
              "    </tr>\n",
              "    <tr>\n",
              "      <th>16</th>\n",
              "      <td>0.100752</td>\n",
              "      <td>0.971378</td>\n",
              "      <td>0.357077</td>\n",
              "      <td>0.908629</td>\n",
              "    </tr>\n",
              "    <tr>\n",
              "      <th>17</th>\n",
              "      <td>0.087762</td>\n",
              "      <td>0.971880</td>\n",
              "      <td>0.438119</td>\n",
              "      <td>0.905584</td>\n",
              "    </tr>\n",
              "    <tr>\n",
              "      <th>18</th>\n",
              "      <td>0.067475</td>\n",
              "      <td>0.978408</td>\n",
              "      <td>0.422255</td>\n",
              "      <td>0.915736</td>\n",
              "    </tr>\n",
              "    <tr>\n",
              "      <th>19</th>\n",
              "      <td>0.079503</td>\n",
              "      <td>0.977906</td>\n",
              "      <td>0.393517</td>\n",
              "      <td>0.911675</td>\n",
              "    </tr>\n",
              "    <tr>\n",
              "      <th>20</th>\n",
              "      <td>0.090884</td>\n",
              "      <td>0.970123</td>\n",
              "      <td>0.360341</td>\n",
              "      <td>0.918782</td>\n",
              "    </tr>\n",
              "    <tr>\n",
              "      <th>21</th>\n",
              "      <td>0.086404</td>\n",
              "      <td>0.972132</td>\n",
              "      <td>0.470119</td>\n",
              "      <td>0.900508</td>\n",
              "    </tr>\n",
              "  </tbody>\n",
              "</table>\n",
              "</div>"
            ],
            "text/plain": [
              "        loss  accuracy  val_loss  val_accuracy\n",
              "0   1.767598  0.466483  1.640850      0.555330\n",
              "1   0.822356  0.743158  1.066197      0.727919\n",
              "2   0.533501  0.825006  0.812415      0.770558\n",
              "3   0.376656  0.883505  0.751095      0.812183\n",
              "4   0.327735  0.896560  0.655693      0.830457\n",
              "5   0.262432  0.914637  0.642150      0.835533\n",
              "6   0.250959  0.925433  0.538047      0.861929\n",
              "7   0.176420  0.947025  0.526328      0.850761\n",
              "8   0.172928  0.946523  0.548436      0.878173\n",
              "9   0.184173  0.941250  0.545724      0.853807\n",
              "10  0.151823  0.948280  0.522283      0.868020\n",
              "11  0.156622  0.956816  0.475961      0.885279\n",
              "12  0.119081  0.965855  0.598331      0.875127\n",
              "13  0.114556  0.964600  0.466487      0.878173\n",
              "14  0.127231  0.962089  0.426454      0.890355\n",
              "15  0.113639  0.966859  0.441258      0.883249\n",
              "16  0.100752  0.971378  0.357077      0.908629\n",
              "17  0.087762  0.971880  0.438119      0.905584\n",
              "18  0.067475  0.978408  0.422255      0.915736\n",
              "19  0.079503  0.977906  0.393517      0.911675\n",
              "20  0.090884  0.970123  0.360341      0.918782\n",
              "21  0.086404  0.972132  0.470119      0.900508"
            ]
          },
          "metadata": {
            "tags": []
          },
          "execution_count": 70
        }
      ]
    },
    {
      "cell_type": "code",
      "metadata": {
        "id": "xMritc5X9fha",
        "outputId": "2c68d8b1-1d04-4ceb-e56f-82fcbc6b3293",
        "colab": {
          "base_uri": "https://localhost:8080/",
          "height": 282
        }
      },
      "source": [
        "# plotting loss and validation loss against number of epochs\n",
        "metrics[['loss', 'val_loss']].plot()"
      ],
      "execution_count": null,
      "outputs": [
        {
          "output_type": "execute_result",
          "data": {
            "text/plain": [
              "<matplotlib.axes._subplots.AxesSubplot at 0x7f914ba42d30>"
            ]
          },
          "metadata": {
            "tags": []
          },
          "execution_count": 71
        },
        {
          "output_type": "display_data",
          "data": {
            "image/png": "[encoded data removed]",
            "text/plain": [
              "<Figure size 432x288 with 1 Axes>"
            ]
          },
          "metadata": {
            "tags": [],
            "needs_background": "light"
          }
        }
      ]
    },
    {
      "cell_type": "code",
      "metadata": {
        "id": "V87I44-a9rX3",
        "outputId": "a2cc1634-d677-454d-d66c-3d31d489fb56",
        "colab": {
          "base_uri": "https://localhost:8080/",
          "height": 285
        }
      },
      "source": [
        "# plotting accuracy and validation accuracy against number of epochs\n",
        "metrics[['accuracy', 'val_accuracy']].plot()"
      ],
      "execution_count": null,
      "outputs": [
        {
          "output_type": "execute_result",
          "data": {
            "text/plain": [
              "<matplotlib.axes._subplots.AxesSubplot at 0x7f914197aeb8>"
            ]
          },
          "metadata": {
            "tags": []
          },
          "execution_count": 72
        },
        {
          "output_type": "display_data",
          "data": {
            "image/png": "[encoded data removed]",
            "text/plain": [
              "<Figure size 432x288 with 1 Axes>"
            ]
          },
          "metadata": {
            "tags": [],
            "needs_background": "light"
          }
        }
      ]
    },
    {
      "cell_type": "code",
      "metadata": {
        "id": "lx2GAqA9-Prp",
        "outputId": "65084ea4-9b1d-4f2b-b9fb-380c0c7a4f6a",
        "colab": {
          "base_uri": "https://localhost:8080/",
          "height": 34
        }
      },
      "source": [
        "test_image_gen[0][0].shape"
      ],
      "execution_count": null,
      "outputs": [
        {
          "output_type": "execute_result",
          "data": {
            "text/plain": [
              "(16, 96, 128, 1)"
            ]
          },
          "metadata": {
            "tags": []
          },
          "execution_count": 73
        }
      ]
    },
    {
      "cell_type": "code",
      "metadata": {
        "id": "SAKmDuci99ZI",
        "outputId": "384eb6ec-641f-4b12-bf59-c4c701267939",
        "colab": {
          "base_uri": "https://localhost:8080/",
          "height": 51
        }
      },
      "source": [
        "model.evaluate(test_image_gen)"
      ],
      "execution_count": null,
      "outputs": [
        {
          "output_type": "stream",
          "text": [
            "62/62 [==============================] - 7s 116ms/step - loss: 0.4415 - accuracy: 0.9046\n"
          ],
          "name": "stdout"
        },
        {
          "output_type": "execute_result",
          "data": {
            "text/plain": [
              "[0.4414750933647156, 0.9045685529708862]"
            ]
          },
          "metadata": {
            "tags": []
          },
          "execution_count": 74
        }
      ]
    },
    {
      "cell_type": "code",
      "metadata": {
        "id": "XxCsOUea_T0-",
        "outputId": "578b87af-66b2-4dde-d406-b7f0b9d0228e",
        "colab": {
          "base_uri": "https://localhost:8080/",
          "height": 88
        }
      },
      "source": [
        "# predicting loss and accuracy for the test images\n",
        "preds = model.predict_generator(test_image_gen)"
      ],
      "execution_count": null,
      "outputs": [
        {
          "output_type": "stream",
          "text": [
            "WARNING:tensorflow:From <ipython-input-75-71b33f4495d5>:2: Model.predict_generator (from tensorflow.python.keras.engine.training) is deprecated and will be removed in a future version.\n",
            "Instructions for updating:\n",
            "Please use Model.predict, which supports generators.\n"
          ],
          "name": "stdout"
        }
      ]
    },
    {
      "cell_type": "code",
      "metadata": {
        "id": "HipSI4_b_2kK",
        "outputId": "4c437e0e-0bb9-4a4b-bebb-ac9905751c59",
        "colab": {
          "base_uri": "https://localhost:8080/",
          "height": 238
        }
      },
      "source": [
        "preds"
      ],
      "execution_count": null,
      "outputs": [
        {
          "output_type": "execute_result",
          "data": {
            "text/plain": [
              "array([[9.0166971e-12, 8.9348987e-08, 1.3622391e-09, ..., 1.3475338e-07,\n",
              "        5.8063498e-11, 7.2282914e-05],\n",
              "       [9.8267856e-07, 3.8569157e-12, 2.0962327e-12, ..., 5.4766281e-07,\n",
              "        5.6576403e-11, 9.9999738e-01],\n",
              "       [1.0864068e-11, 2.5346034e-09, 1.9728670e-09, ..., 9.0377910e-09,\n",
              "        1.1002967e-05, 1.4322593e-04],\n",
              "       ...,\n",
              "       [9.8070014e-01, 7.8341939e-25, 4.0379220e-22, ..., 5.6422571e-12,\n",
              "        2.1240069e-15, 4.8740945e-10],\n",
              "       [1.2718227e-13, 5.3286724e-14, 2.4488132e-11, ..., 4.0910743e-12,\n",
              "        7.7946578e-07, 3.4990795e-09],\n",
              "       [2.1744039e-12, 2.3813084e-18, 2.5954236e-14, ..., 5.3156736e-13,\n",
              "        5.9286858e-08, 1.2635807e-05]], dtype=float32)"
            ]
          },
          "metadata": {
            "tags": []
          },
          "execution_count": 76
        }
      ]
    },
    {
      "cell_type": "code",
      "metadata": {
        "id": "PafkzS3M_8Kg"
      },
      "source": [
        "preds2 = model.predict_classes(test_image_gen[0])"
      ],
      "execution_count": null,
      "outputs": []
    },
    {
      "cell_type": "code",
      "metadata": {
        "id": "G6C7CV0oAT9G"
      },
      "source": [
        "preds2"
      ],
      "execution_count": null,
      "outputs": []
    },
    {
      "cell_type": "code",
      "metadata": {
        "id": "t3g_d-XKAZiP",
        "outputId": "f324fa17-4a15-41fc-b58c-67bf6682c6e0",
        "colab": {
          "base_uri": "https://localhost:8080/",
          "height": 425
        }
      },
      "source": [
        "test_image_gen.class_indices"
      ],
      "execution_count": null,
      "outputs": [
        {
          "output_type": "execute_result",
          "data": {
            "text/plain": [
              "{'A': 0,\n",
              " 'B': 1,\n",
              " 'C': 2,\n",
              " 'D': 3,\n",
              " 'E': 4,\n",
              " 'F': 5,\n",
              " 'G': 6,\n",
              " 'H': 7,\n",
              " 'I': 8,\n",
              " 'K': 9,\n",
              " 'L': 10,\n",
              " 'M': 11,\n",
              " 'N': 12,\n",
              " 'O': 13,\n",
              " 'P': 14,\n",
              " 'Q': 15,\n",
              " 'R': 16,\n",
              " 'S': 17,\n",
              " 'T': 18,\n",
              " 'U': 19,\n",
              " 'V': 20,\n",
              " 'W': 21,\n",
              " 'X': 22,\n",
              " 'Y': 23}"
            ]
          },
          "metadata": {
            "tags": []
          },
          "execution_count": 80
        }
      ]
    },
    {
      "cell_type": "code",
      "metadata": {
        "id": "k9vujwk1H3rv",
        "outputId": "96cd3214-78f9-41c4-df0e-bce325e95103",
        "colab": {
          "base_uri": "https://localhost:8080/",
          "height": 34
        }
      },
      "source": [
        "test_image_gen[0][0][0].shape"
      ],
      "execution_count": null,
      "outputs": [
        {
          "output_type": "execute_result",
          "data": {
            "text/plain": [
              "(96, 128, 1)"
            ]
          },
          "metadata": {
            "tags": []
          },
          "execution_count": 81
        }
      ]
    },
    {
      "cell_type": "code",
      "metadata": {
        "id": "WkNwYIIINxgz",
        "outputId": "63f9ffec-bcd6-4fdd-ce30-146e3cfdaa1f",
        "colab": {
          "base_uri": "https://localhost:8080/",
          "height": 34
        }
      },
      "source": [
        "test_image_gen[0][0][0].min()"
      ],
      "execution_count": null,
      "outputs": [
        {
          "output_type": "execute_result",
          "data": {
            "text/plain": [
              "0.0"
            ]
          },
          "metadata": {
            "tags": []
          },
          "execution_count": 82
        }
      ]
    },
    {
      "cell_type": "code",
      "metadata": {
        "id": "RSF-vTsTIEBM",
        "outputId": "60247fe7-25e7-4a32-bad0-2ecb9d49e13e",
        "colab": {
          "base_uri": "https://localhost:8080/",
          "height": 285
        }
      },
      "source": [
        "plt.imshow(test_image_gen[0][0][8].reshape(96,128))"
      ],
      "execution_count": null,
      "outputs": [
        {
          "output_type": "execute_result",
          "data": {
            "text/plain": [
              "<matplotlib.image.AxesImage at 0x7f91416859b0>"
            ]
          },
          "metadata": {
            "tags": []
          },
          "execution_count": 83
        },
        {
          "output_type": "display_data",
          "data": {
            "image/png": "[encoded data removed]",
            "text/plain": [
              "<Figure size 432x288 with 1 Axes>"
            ]
          },
          "metadata": {
            "tags": [],
            "needs_background": "light"
          }
        }
      ]
    },
    {
      "cell_type": "code",
      "metadata": {
        "id": "iJyPda0iA5_6",
        "outputId": "ecada6d8-0ba0-4f02-b335-921f18c85a14",
        "colab": {
          "base_uri": "https://localhost:8080/",
          "height": 34
        }
      },
      "source": [
        "test_image_gen.samples"
      ],
      "execution_count": null,
      "outputs": [
        {
          "output_type": "execute_result",
          "data": {
            "text/plain": [
              "985"
            ]
          },
          "metadata": {
            "tags": []
          },
          "execution_count": 84
        }
      ]
    },
    {
      "cell_type": "code",
      "metadata": {
        "id": "QiU2b2-KMgpF"
      },
      "source": [
        "from tensorflow.keras.models import load_model"
      ],
      "execution_count": null,
      "outputs": []
    },
    {
      "cell_type": "code",
      "metadata": {
        "id": "YR0LF1uFswJk"
      },
      "source": [
        "# saving the model for later use\n",
        "# uncomment and rename it to the name you like after '/content/' with the extension '.h5'\n",
        "#model.save('/content/SLR_bw_black4.h5')"
      ],
      "execution_count": null,
      "outputs": []
    },
    {
      "cell_type": "code",
      "metadata": {
        "id": "9qnPP1cyMyVZ"
      },
      "source": [
        "# loading the saved model for using later on without training again\n",
        "#model = load_model('/content/SLR_bw_black4.h5')"
      ],
      "execution_count": null,
      "outputs": []
    },
    {
      "cell_type": "code",
      "metadata": {
        "id": "h2pzIK_ANRta"
      },
      "source": [
        "from tensorflow.keras.preprocessing import image"
      ],
      "execution_count": null,
      "outputs": []
    },
    {
      "cell_type": "code",
      "metadata": {
        "id": "wZJcDEfqSyXX"
      },
      "source": [
        "#model = load_model('/content/SLR_bw_black1.h5')"
      ],
      "execution_count": null,
      "outputs": []
    },
    {
      "cell_type": "code",
      "metadata": {
        "id": "qTuEGtfcoDIR"
      },
      "source": [
        "# Folder containing different test images\n",
        "img_path = '/content/drive/My Drive/Test/C2.jpg'"
      ],
      "execution_count": null,
      "outputs": []
    },
    {
      "cell_type": "code",
      "metadata": {
        "id": "EZ0bFVfKV42s"
      },
      "source": [
        "# Dictionary containing classes\n",
        "classes = test_image_gen.class_indices"
      ],
      "execution_count": null,
      "outputs": []
    },
    {
      "cell_type": "code",
      "metadata": {
        "id": "trZY6TF4lwV0",
        "outputId": "cdddd9a3-1f6c-4dd2-a0fa-9854f064a226",
        "colab": {
          "base_uri": "https://localhost:8080/",
          "height": 113
        }
      },
      "source": [
        "# This script is from https://github.com/imRishabhGupta/Indian-Sign-Language-Recognition and modified slightly by Sujay P\n",
        "# A modified version of this script was used to augment the entire dataset and convert every image to an image with a\n",
        "# black background\n",
        "# The following script converts the background of the test images to black! Works to some extent!\n",
        "# No need of this script if you used a different datatset for training\n",
        "\n",
        "import cv2\n",
        "from google.colab.patches import cv2_imshow\n",
        "\n",
        "frame = cv2.imread(img_path)\n",
        "frame = cv2.resize(frame,(128,96))\n",
        "\n",
        "\n",
        "converted = cv2.cvtColor(frame, cv2.COLOR_BGR2HSV)\n",
        "#print(frame.shape)\n",
        "\n",
        "lowerBoundary = np.array([0,40,30],dtype=\"uint8\")\n",
        "upperBoundary = np.array([43,255,254],dtype=\"uint8\")\n",
        "\n",
        "skinMask = cv2.inRange(converted, lowerBoundary, upperBoundary)\n",
        "\n",
        "kernel = cv2.getStructuringElement(cv2.MORPH_ELLIPSE, (3,3))\n",
        "skinMask = cv2.erode(skinMask, kernel, iterations = 2)\n",
        "skinMask = cv2.dilate(skinMask, kernel, iterations = 2)\n",
        "\n",
        "lowerBoundary = np.array([170,80,30],dtype=\"uint8\")\n",
        "upperBoundary = np.array([180,255,250],dtype=\"uint8\")\n",
        "\n",
        "skinMask2 = cv2.inRange(converted, lowerBoundary, upperBoundary)\n",
        "skinMask = cv2.addWeighted(skinMask,0.5,skinMask2,0.5,0.0)\n",
        "#cv2_imshow(skinMask)\n",
        "\n",
        "skinMask = cv2.medianBlur(skinMask, 5)\n",
        "skin = cv2.bitwise_and(frame, frame, mask = skinMask)\n",
        "frame = cv2.addWeighted(frame,1.5,skin,-0.5,0)\n",
        "skin = cv2.bitwise_and(frame, frame, mask = skinMask)\n",
        "gray = cv2.cvtColor(skin, cv2.COLOR_BGR2GRAY)\n",
        "\n",
        "cv2_imshow(gray)"
      ],
      "execution_count": null,
      "outputs": [
        {
          "output_type": "display_data",
          "data": {
            "image/png": "[encoded data removed]",
            "text/plain": [
              "<PIL.Image.Image image mode=L size=128x96 at 0x7F914161F160>"
            ]
          },
          "metadata": {
            "tags": []
          }
        }
      ]
    },
    {
      "cell_type": "code",
      "metadata": {
        "id": "OX1aksZImr2L",
        "outputId": "e180c56c-bf63-4015-f783-0f8864df1cb7",
        "colab": {
          "base_uri": "https://localhost:8080/",
          "height": 34
        }
      },
      "source": [
        "# check the dimensions of the test image\n",
        "# if you want to test on a single image file then open the side menu, press the upload button\n",
        "# if the test image is of different dimension than your training image dimensions then use .reshape(dim1, dim2)\n",
        "gray.shape"
      ],
      "execution_count": null,
      "outputs": [
        {
          "output_type": "execute_result",
          "data": {
            "text/plain": [
              "(96, 128)"
            ]
          },
          "metadata": {
            "tags": []
          },
          "execution_count": 105
        }
      ]
    },
    {
      "cell_type": "code",
      "metadata": {
        "id": "GsOijjVWM3I_"
      },
      "source": [
        "# Adding the 'number of examples' dimension and 'Color channel' dimension to the test image so as to match the dimensions\n",
        "# of the training set image dimension\n",
        "gray = np.expand_dims(gray, (0, 3))"
      ],
      "execution_count": null,
      "outputs": []
    },
    {
      "cell_type": "code",
      "metadata": {
        "id": "KyESK5W9mwRH"
      },
      "source": [
        "#frame = frame.reshape(1, 96, 128, 1)"
      ],
      "execution_count": null,
      "outputs": []
    },
    {
      "cell_type": "code",
      "metadata": {
        "id": "lHDymAsmm3ue",
        "outputId": "19ebb87e-636b-409f-a224-2456e512e5cd",
        "colab": {
          "base_uri": "https://localhost:8080/",
          "height": 34
        }
      },
      "source": [
        "gray.shape"
      ],
      "execution_count": null,
      "outputs": [
        {
          "output_type": "execute_result",
          "data": {
            "text/plain": [
              "(1, 96, 128, 1)"
            ]
          },
          "metadata": {
            "tags": []
          },
          "execution_count": 108
        }
      ]
    },
    {
      "cell_type": "code",
      "metadata": {
        "id": "a_R_Dr8Mnslj",
        "outputId": "59b54f6e-a3ac-4dab-ada7-ec3d2e1f985b",
        "colab": {
          "base_uri": "https://localhost:8080/",
          "height": 34
        }
      },
      "source": [
        "gray.max()"
      ],
      "execution_count": null,
      "outputs": [
        {
          "output_type": "execute_result",
          "data": {
            "text/plain": [
              "181"
            ]
          },
          "metadata": {
            "tags": []
          },
          "execution_count": 109
        }
      ]
    },
    {
      "cell_type": "code",
      "metadata": {
        "id": "vcIgbUwqnx9H",
        "outputId": "c4cc8a23-19bf-4d76-9ce9-8d1d922aef65",
        "colab": {
          "base_uri": "https://localhost:8080/",
          "height": 34
        }
      },
      "source": [
        "gray.min()"
      ],
      "execution_count": null,
      "outputs": [
        {
          "output_type": "execute_result",
          "data": {
            "text/plain": [
              "0"
            ]
          },
          "metadata": {
            "tags": []
          },
          "execution_count": 110
        }
      ]
    },
    {
      "cell_type": "code",
      "metadata": {
        "id": "6xY8Ws25n2iK"
      },
      "source": [
        "# Normalizing the pixel values of the test image to bring the range of every pixel in between 0 & 1\n",
        "gray = gray/255"
      ],
      "execution_count": null,
      "outputs": []
    },
    {
      "cell_type": "code",
      "metadata": {
        "id": "naIpclstn5Qh",
        "outputId": "64fa52ea-7b4d-4f36-eea4-871063a60bc0",
        "colab": {
          "base_uri": "https://localhost:8080/",
          "height": 34
        }
      },
      "source": [
        "gray.max()"
      ],
      "execution_count": null,
      "outputs": [
        {
          "output_type": "execute_result",
          "data": {
            "text/plain": [
              "0.7098039215686275"
            ]
          },
          "metadata": {
            "tags": []
          },
          "execution_count": 112
        }
      ]
    },
    {
      "cell_type": "code",
      "metadata": {
        "id": "w5lM9AZqn7jk",
        "outputId": "ee4d6c59-fdc9-4dec-db3a-6e6cf657c45a",
        "colab": {
          "base_uri": "https://localhost:8080/",
          "height": 34
        }
      },
      "source": [
        "gray.min()"
      ],
      "execution_count": null,
      "outputs": [
        {
          "output_type": "execute_result",
          "data": {
            "text/plain": [
              "0.0"
            ]
          },
          "metadata": {
            "tags": []
          },
          "execution_count": 113
        }
      ]
    },
    {
      "cell_type": "code",
      "metadata": {
        "id": "PG4ZtCvuZydu",
        "outputId": "334547b2-6bd1-4adf-be74-2e83a64c2caa",
        "colab": {
          "base_uri": "https://localhost:8080/",
          "height": 34
        }
      },
      "source": [
        "model.predict_classes(gray)"
      ],
      "execution_count": null,
      "outputs": [
        {
          "output_type": "execute_result",
          "data": {
            "text/plain": [
              "array([2])"
            ]
          },
          "metadata": {
            "tags": []
          },
          "execution_count": 114
        }
      ]
    },
    {
      "cell_type": "code",
      "metadata": {
        "id": "OlFZSpfDZ2NV"
      },
      "source": [
        "# predicting the class of the test image\n",
        "predict = model.predict_classes(gray)"
      ],
      "execution_count": null,
      "outputs": []
    },
    {
      "cell_type": "code",
      "metadata": {
        "id": "J0pyK1_wmlZp",
        "outputId": "bb5d03bc-3c28-4db8-afe1-cf26ca96a850",
        "colab": {
          "base_uri": "https://localhost:8080/",
          "height": 35
        }
      },
      "source": [
        "# predicted class of the test image\n",
        "list(classes.keys())[predict[0]]"
      ],
      "execution_count": null,
      "outputs": [
        {
          "output_type": "execute_result",
          "data": {
            "application/vnd.google.colaboratory.intrinsic+json": {
              "type": "string"
            },
            "text/plain": [
              "'C'"
            ]
          },
          "metadata": {
            "tags": []
          },
          "execution_count": 116
        }
      ]
    }
  ]
}